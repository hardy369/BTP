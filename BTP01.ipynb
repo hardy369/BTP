{
  "nbformat": 4,
  "nbformat_minor": 0,
  "metadata": {
    "colab": {
      "provenance": [],
      "toc_visible": true
    },
    "kernelspec": {
      "name": "python3",
      "display_name": "Python 3"
    },
    "language_info": {
      "name": "python"
    }
  },
  "cells": [
    {
      "cell_type": "code",
      "execution_count": 2,
      "metadata": {
        "colab": {
          "base_uri": "https://localhost:8080/"
        },
        "id": "PrDf9SDnRUvZ",
        "outputId": "a1fcd150-7ed4-4374-9b7f-c3ff98ceecda"
      },
      "outputs": [
        {
          "output_type": "stream",
          "name": "stdout",
          "text": [
            "Downloading from https://www.kaggle.com/api/v1/datasets/download/ankushpanday2/heart-attack-risk-and-prediction-dataset-in-india?dataset_version_number=1...\n"
          ]
        },
        {
          "output_type": "stream",
          "name": "stderr",
          "text": [
            "100%|██████████| 269k/269k [00:00<00:00, 65.0MB/s]"
          ]
        },
        {
          "output_type": "stream",
          "name": "stdout",
          "text": [
            "Extracting files...\n",
            "Path to dataset files: /root/.cache/kagglehub/datasets/ankushpanday2/heart-attack-risk-and-prediction-dataset-in-india/versions/1\n"
          ]
        },
        {
          "output_type": "stream",
          "name": "stderr",
          "text": [
            "\n"
          ]
        }
      ],
      "source": [
        "import kagglehub\n",
        "\n",
        "path = kagglehub.dataset_download(\"ankushpanday2/heart-attack-risk-and-prediction-dataset-in-india\")\n",
        "\n",
        "print(\"Path to dataset files:\", path)"
      ]
    },
    {
      "cell_type": "code",
      "source": [
        "import pandas as pd\n",
        "import os\n",
        "\n",
        "\n",
        "for file in os.listdir(path):\n",
        "    if file.endswith(\".csv\"):\n",
        "        dataset_path = os.path.join(path, file)\n",
        "        break\n",
        "\n",
        "df = pd.read_csv(dataset_path)\n",
        "\n",
        "print(\"First 5 rows of the dataset:\")\n",
        "print(df.head())\n"
      ],
      "metadata": {
        "colab": {
          "base_uri": "https://localhost:8080/"
        },
        "id": "OJuyo8ZKRXJ1",
        "outputId": "0f4a9218-35a0-441e-cfae-3fcd3e5d7459"
      },
      "execution_count": 3,
      "outputs": [
        {
          "output_type": "stream",
          "name": "stdout",
          "text": [
            "First 5 rows of the dataset:\n",
            "   Patient_ID        State_Name  Age  Gender  Diabetes  Hypertension  Obesity  \\\n",
            "0           1         Rajasthan   42  Female         0             0        1   \n",
            "1           2  Himachal Pradesh   26    Male         0             0        0   \n",
            "2           3             Assam   78    Male         0             0        1   \n",
            "3           4            Odisha   58    Male         1             0        1   \n",
            "4           5         Karnataka   22    Male         0             0        0   \n",
            "\n",
            "   Smoking  Alcohol_Consumption  Physical_Activity  ...  Diastolic_BP  \\\n",
            "0        1                    0                  0  ...           119   \n",
            "1        0                    1                  1  ...           115   \n",
            "2        0                    0                  1  ...           117   \n",
            "3        0                    0                  1  ...            65   \n",
            "4        0                    0                  1  ...           109   \n",
            "\n",
            "   Air_Pollution_Exposure  Family_History  Stress_Level  Healthcare_Access  \\\n",
            "0                       1               0             4                  0   \n",
            "1                       0               0             7                  0   \n",
            "2                       0               1            10                  1   \n",
            "3                       0               0             1                  1   \n",
            "4                       0               0             9                  0   \n",
            "\n",
            "   Heart_Attack_History  Emergency_Response_Time  Annual_Income  \\\n",
            "0                     0                      157         611025   \n",
            "1                     0                      331         174527   \n",
            "2                     0                      186        1760112   \n",
            "3                     1                      324        1398213   \n",
            "4                     0                      209          97987   \n",
            "\n",
            "   Health_Insurance  Heart_Attack_Risk  \n",
            "0                 0                  0  \n",
            "1                 0                  0  \n",
            "2                 1                  0  \n",
            "3                 0                  0  \n",
            "4                 0                  1  \n",
            "\n",
            "[5 rows x 26 columns]\n"
          ]
        }
      ]
    },
    {
      "cell_type": "code",
      "source": [
        "\n",
        "\n",
        "for file in os.listdir(path):\n",
        "    if file.endswith(\".csv\"):\n",
        "        dataset_path = os.path.join(path, file)\n",
        "        break\n",
        "\n",
        "df = pd.read_csv(dataset_path)\n",
        "\n",
        "num_features = df.shape[1]\n",
        "\n",
        "print(\"Total number of features (columns):\", num_features)\n",
        "print(\"Feature names:\", list(df.columns))\n"
      ],
      "metadata": {
        "colab": {
          "base_uri": "https://localhost:8080/"
        },
        "id": "wwLbypYcRxw8",
        "outputId": "52239db5-a3f3-48be-a34f-3479240ddea4"
      },
      "execution_count": 4,
      "outputs": [
        {
          "output_type": "stream",
          "name": "stdout",
          "text": [
            "Total number of features (columns): 26\n",
            "Feature names: ['Patient_ID', 'State_Name', 'Age', 'Gender', 'Diabetes', 'Hypertension', 'Obesity', 'Smoking', 'Alcohol_Consumption', 'Physical_Activity', 'Diet_Score', 'Cholesterol_Level', 'Triglyceride_Level', 'LDL_Level', 'HDL_Level', 'Systolic_BP', 'Diastolic_BP', 'Air_Pollution_Exposure', 'Family_History', 'Stress_Level', 'Healthcare_Access', 'Heart_Attack_History', 'Emergency_Response_Time', 'Annual_Income', 'Health_Insurance', 'Heart_Attack_Risk']\n"
          ]
        }
      ]
    },
    {
      "cell_type": "code",
      "source": [
        "# Z-Score Normalization\n",
        "\n",
        "from sklearn.preprocessing import StandardScaler\n",
        "\n",
        "scaler = StandardScaler()\n",
        "df[numerical_cols] = scaler.fit_transform(df[numerical_cols])\n"
      ],
      "metadata": {
        "colab": {
          "base_uri": "https://localhost:8080/",
          "height": 176
        },
        "id": "IcsN3enoTyr0",
        "outputId": "0e178a6e-acac-4f85-a78b-325cc0cfbb36"
      },
      "execution_count": 5,
      "outputs": [
        {
          "output_type": "error",
          "ename": "NameError",
          "evalue": "name 'numerical_cols' is not defined",
          "traceback": [
            "\u001b[0;31m---------------------------------------------------------------------------\u001b[0m",
            "\u001b[0;31mNameError\u001b[0m                                 Traceback (most recent call last)",
            "\u001b[0;32m/tmp/ipython-input-3201881460.py\u001b[0m in \u001b[0;36m<cell line: 0>\u001b[0;34m()\u001b[0m\n\u001b[1;32m      4\u001b[0m \u001b[0;34m\u001b[0m\u001b[0m\n\u001b[1;32m      5\u001b[0m \u001b[0mscaler\u001b[0m \u001b[0;34m=\u001b[0m \u001b[0mStandardScaler\u001b[0m\u001b[0;34m(\u001b[0m\u001b[0;34m)\u001b[0m\u001b[0;34m\u001b[0m\u001b[0;34m\u001b[0m\u001b[0m\n\u001b[0;32m----> 6\u001b[0;31m \u001b[0mdf\u001b[0m\u001b[0;34m[\u001b[0m\u001b[0mnumerical_cols\u001b[0m\u001b[0;34m]\u001b[0m \u001b[0;34m=\u001b[0m \u001b[0mscaler\u001b[0m\u001b[0;34m.\u001b[0m\u001b[0mfit_transform\u001b[0m\u001b[0;34m(\u001b[0m\u001b[0mdf\u001b[0m\u001b[0;34m[\u001b[0m\u001b[0mnumerical_cols\u001b[0m\u001b[0;34m]\u001b[0m\u001b[0;34m)\u001b[0m\u001b[0;34m\u001b[0m\u001b[0;34m\u001b[0m\u001b[0m\n\u001b[0m",
            "\u001b[0;31mNameError\u001b[0m: name 'numerical_cols' is not defined"
          ]
        }
      ]
    },
    {
      "cell_type": "code",
      "source": [
        "print(\"Columns in dataset:\")\n",
        "print(df.columns.tolist())\n"
      ],
      "metadata": {
        "colab": {
          "base_uri": "https://localhost:8080/"
        },
        "id": "EwdpXvb1Vt6W",
        "outputId": "81383d19-736b-44bd-c69c-945e2bd4e314"
      },
      "execution_count": 6,
      "outputs": [
        {
          "output_type": "stream",
          "name": "stdout",
          "text": [
            "Columns in dataset:\n",
            "['Patient_ID', 'State_Name', 'Age', 'Gender', 'Diabetes', 'Hypertension', 'Obesity', 'Smoking', 'Alcohol_Consumption', 'Physical_Activity', 'Diet_Score', 'Cholesterol_Level', 'Triglyceride_Level', 'LDL_Level', 'HDL_Level', 'Systolic_BP', 'Diastolic_BP', 'Air_Pollution_Exposure', 'Family_History', 'Stress_Level', 'Healthcare_Access', 'Heart_Attack_History', 'Emergency_Response_Time', 'Annual_Income', 'Health_Insurance', 'Heart_Attack_Risk']\n"
          ]
        }
      ]
    },
    {
      "cell_type": "code",
      "source": [
        "numerical_cols = [\"age\", \"trestbps\", \"chol\", \"thalach\", \"oldpeak\"]\n",
        "categorical_cols = [\"cp\", \"restecg\", \"slope\", \"thal\"]\n",
        "binary_cols = [\"sex\", \"fbs\", \"exang\"]\n"
      ],
      "metadata": {
        "id": "2ZmsIAwLV_mD"
      },
      "execution_count": 7,
      "outputs": []
    },
    {
      "cell_type": "code",
      "source": [
        "print(\"Dataset columns:\")\n",
        "print(df.columns.tolist())\n"
      ],
      "metadata": {
        "colab": {
          "base_uri": "https://localhost:8080/"
        },
        "id": "xH_h2Js0WLET",
        "outputId": "b221a3e0-3be9-42f7-e95d-3618380d9478"
      },
      "execution_count": 8,
      "outputs": [
        {
          "output_type": "stream",
          "name": "stdout",
          "text": [
            "Dataset columns:\n",
            "['Patient_ID', 'State_Name', 'Age', 'Gender', 'Diabetes', 'Hypertension', 'Obesity', 'Smoking', 'Alcohol_Consumption', 'Physical_Activity', 'Diet_Score', 'Cholesterol_Level', 'Triglyceride_Level', 'LDL_Level', 'HDL_Level', 'Systolic_BP', 'Diastolic_BP', 'Air_Pollution_Exposure', 'Family_History', 'Stress_Level', 'Healthcare_Access', 'Heart_Attack_History', 'Emergency_Response_Time', 'Annual_Income', 'Health_Insurance', 'Heart_Attack_Risk']\n"
          ]
        }
      ]
    },
    {
      "cell_type": "markdown",
      "source": [
        "**Z Score Normalization**"
      ],
      "metadata": {
        "id": "QYo7t7IXb7G2"
      }
    },
    {
      "cell_type": "code",
      "source": [
        "# Z-Score Normalization\n",
        "\n",
        "import numpy as np\n",
        "\n",
        "def z_score_normalization(image_array):\n",
        "\n",
        "    mean = np.mean(image_array)\n",
        "    std = np.std(image_array)\n",
        "    if std == 0:\n",
        "        return image_array  # avoid division by zero\n",
        "    return (image_array - mean) / std\n"
      ],
      "metadata": {
        "id": "3kGFPp4vWHbd"
      },
      "execution_count": 9,
      "outputs": []
    },
    {
      "cell_type": "code",
      "source": [
        "numerical_cols = [\"Age\", \"Cholesterol\", \"BloodPressure\", \"MaxHR\", \"Oldpeak\"]\n"
      ],
      "metadata": {
        "id": "PuR8yfJ1ZqON"
      },
      "execution_count": 10,
      "outputs": []
    },
    {
      "cell_type": "code",
      "source": [
        "from sklearn.preprocessing import StandardScaler\n",
        "\n",
        "numeric_cols = [\n",
        "    'Age', 'Cholesterol_Level', 'Triglyceride_Level',\n",
        "    'LDL_Level', 'HDL_Level', 'Systolic_BP', 'Diastolic_BP',\n",
        "    'Stress_Level', 'Emergency_Response_Time', 'Annual_Income'\n",
        "]\n",
        "\n",
        "scaler = StandardScaler()\n",
        "df[numeric_cols] = scaler.fit_transform(df[numeric_cols])\n"
      ],
      "metadata": {
        "id": "iILyK6F2ZveC"
      },
      "execution_count": 11,
      "outputs": []
    },
    {
      "cell_type": "markdown",
      "source": [
        "**HNDLING MISSING VALUES**"
      ],
      "metadata": {
        "id": "s7eVL0bTdXli"
      }
    },
    {
      "cell_type": "code",
      "source": [
        "import pandas as pd\n",
        "from sklearn.impute import SimpleImputer\n",
        "\n",
        "\n",
        "numeric_cols = [\n",
        "    'Age', 'Cholesterol_Level', 'Triglyceride_Level',\n",
        "    'LDL_Level', 'HDL_Level', 'Systolic_BP', 'Diastolic_BP',\n",
        "    'Stress_Level', 'Emergency_Response_Time', 'Annual_Income'\n",
        "]\n",
        "\n"
      ],
      "metadata": {
        "id": "ll2e1rOVbJjG"
      },
      "execution_count": 12,
      "outputs": []
    },
    {
      "cell_type": "code",
      "source": [
        "categorical_cols = [\n",
        "    'State_Name', 'Gender', 'Diabetes', 'Hypertension', 'Obesity',\n",
        "    'Smoking', 'Alcohol_Consumption', 'Physical_Activity',\n",
        "    'Diet_Score', 'Family_History', 'Healthcare_Access',\n",
        "    'Health_Insurance', 'Heart_Attack_History'\n",
        "]\n",
        "\n"
      ],
      "metadata": {
        "id": "Z4JR5KQMc3Bf"
      },
      "execution_count": 13,
      "outputs": []
    },
    {
      "cell_type": "code",
      "source": [
        "num_imputer = SimpleImputer(strategy='median')\n",
        "df[numeric_cols] = num_imputer.fit_transform(df[numeric_cols])\n",
        "\n",
        "cat_imputer = SimpleImputer(strategy='most_frequent')\n",
        "df[categorical_cols] = cat_imputer.fit_transform(df[categorical_cols])\n",
        "\n",
        "print(\"Missing values handled.\")\n",
        "print(df.isnull().sum())\n"
      ],
      "metadata": {
        "colab": {
          "base_uri": "https://localhost:8080/"
        },
        "id": "0yMHmGHjdDRh",
        "outputId": "ecd018ca-07c7-4b8c-dd32-cee997918205"
      },
      "execution_count": 15,
      "outputs": [
        {
          "output_type": "stream",
          "name": "stdout",
          "text": [
            "Missing values handled.\n",
            "Patient_ID                 0\n",
            "State_Name                 0\n",
            "Age                        0\n",
            "Gender                     0\n",
            "Diabetes                   0\n",
            "Hypertension               0\n",
            "Obesity                    0\n",
            "Smoking                    0\n",
            "Alcohol_Consumption        0\n",
            "Physical_Activity          0\n",
            "Diet_Score                 0\n",
            "Cholesterol_Level          0\n",
            "Triglyceride_Level         0\n",
            "LDL_Level                  0\n",
            "HDL_Level                  0\n",
            "Systolic_BP                0\n",
            "Diastolic_BP               0\n",
            "Air_Pollution_Exposure     0\n",
            "Family_History             0\n",
            "Stress_Level               0\n",
            "Healthcare_Access          0\n",
            "Heart_Attack_History       0\n",
            "Emergency_Response_Time    0\n",
            "Annual_Income              0\n",
            "Health_Insurance           0\n",
            "Heart_Attack_Risk          0\n",
            "dtype: int64\n"
          ]
        }
      ]
    },
    {
      "cell_type": "code",
      "source": [],
      "metadata": {
        "id": "QneFXubkdENp"
      },
      "execution_count": null,
      "outputs": []
    },
    {
      "cell_type": "markdown",
      "source": [
        "**Encode Categorical Variables**"
      ],
      "metadata": {
        "id": "EaSIOE4aeHkr"
      }
    },
    {
      "cell_type": "code",
      "source": [
        "import pandas as pd\n",
        "from sklearn.impute import SimpleImputer\n",
        "\n",
        "\n",
        "numeric_candidates = [\n",
        "    'Age', 'Cholesterol_Level', 'Triglyceride_Level',\n",
        "    'LDL_Level', 'HDL_Level', 'Systolic_BP', 'Diastolic_BP',\n",
        "    'Stress_Level', 'Emergency_Response_Time', 'Annual_Income'\n",
        "]\n",
        "\n",
        "categorical_candidates = [\n",
        "    'State_Name', 'Gender', 'Diabetes', 'Hypertension', 'Obesity',\n",
        "    'Smoking', 'Alcohol_Consumption', 'Physical_Activity',\n",
        "    'Diet_Score', 'Family_History', 'Healthcare_Access',\n",
        "    'Health_Insurance', 'Heart_Attack_History'\n",
        "]\n",
        "\n"
      ],
      "metadata": {
        "id": "vgTgdV4SeORx"
      },
      "execution_count": 16,
      "outputs": []
    },
    {
      "cell_type": "code",
      "source": [
        "numeric_cols = [col for col in numeric_candidates if col in df.columns]\n",
        "categorical_cols = [col for col in categorical_candidates if col in df.columns]\n",
        "\n",
        "if numeric_cols:\n",
        "    num_imputer = SimpleImputer(strategy='median')\n",
        "    df[numeric_cols] = num_imputer.fit_transform(df[numeric_cols])\n",
        "\n"
      ],
      "metadata": {
        "id": "Ahn0BiWdeSzO"
      },
      "execution_count": 17,
      "outputs": []
    },
    {
      "cell_type": "code",
      "source": [
        "if categorical_cols:\n",
        "    cat_imputer = SimpleImputer(strategy='most_frequent')\n",
        "    df[categorical_cols] = cat_imputer.fit_transform(df[categorical_cols])\n",
        "\n",
        "print(\"Missing values handled successfully.\")\n",
        "print(\"Remaining nulls:\\n\", df.isnull().sum())\n"
      ],
      "metadata": {
        "colab": {
          "base_uri": "https://localhost:8080/"
        },
        "id": "iFWzViXFezop",
        "outputId": "f960e263-ebde-42d3-89cd-b2ab3ffaeb26"
      },
      "execution_count": 18,
      "outputs": [
        {
          "output_type": "stream",
          "name": "stdout",
          "text": [
            "Missing values handled successfully.\n",
            "Remaining nulls:\n",
            " Patient_ID                 0\n",
            "State_Name                 0\n",
            "Age                        0\n",
            "Gender                     0\n",
            "Diabetes                   0\n",
            "Hypertension               0\n",
            "Obesity                    0\n",
            "Smoking                    0\n",
            "Alcohol_Consumption        0\n",
            "Physical_Activity          0\n",
            "Diet_Score                 0\n",
            "Cholesterol_Level          0\n",
            "Triglyceride_Level         0\n",
            "LDL_Level                  0\n",
            "HDL_Level                  0\n",
            "Systolic_BP                0\n",
            "Diastolic_BP               0\n",
            "Air_Pollution_Exposure     0\n",
            "Family_History             0\n",
            "Stress_Level               0\n",
            "Healthcare_Access          0\n",
            "Heart_Attack_History       0\n",
            "Emergency_Response_Time    0\n",
            "Annual_Income              0\n",
            "Health_Insurance           0\n",
            "Heart_Attack_Risk          0\n",
            "dtype: int64\n"
          ]
        }
      ]
    },
    {
      "cell_type": "markdown",
      "source": [
        "**Feature Engineering**"
      ],
      "metadata": {
        "id": "DU_zdB9gfmlO"
      }
    },
    {
      "cell_type": "code",
      "source": [
        "import pandas as pd\n",
        "\n",
        "if 'Obesity' in df.columns:\n",
        "    df['Obesity_Risk'] = df['Obesity'] * df['Cholesterol_Level']\n",
        "\n",
        "if 'Systolic_BP' in df.columns and 'Diastolic_BP' in df.columns:\n",
        "    df['BP_Difference'] = df['Systolic_BP'] - df['Diastolic_BP']\n",
        "\n",
        "if 'Cholesterol_Level' in df.columns and 'HDL_Level' in df.columns:\n",
        "    df['Chol_HDL_Ratio'] = df['Cholesterol_Level'] / (df['HDL_Level'] + 1e-5)\n",
        "\n",
        "if 'LDL_Level' in df.columns and 'HDL_Level' in df.columns:\n",
        "    df['LDL_HDL_Ratio'] = df['LDL_Level'] / (df['HDL_Level'] + 1e-5)\n",
        "\n",
        "if 'Triglyceride_Level' in df.columns and 'HDL_Level' in df.columns:\n",
        "    df['TG_HDL_Ratio'] = df['Triglyceride_Level'] / (df['HDL_Level'] + 1e-5)\n",
        "\n",
        "\n"
      ],
      "metadata": {
        "id": "-P-Qus7We2Cl"
      },
      "execution_count": 19,
      "outputs": []
    },
    {
      "cell_type": "code",
      "source": [
        "if 'Age' in df.columns:\n",
        "    df['Age_Group'] = pd.cut(\n",
        "        df['Age'],\n",
        "        bins=[0, 30, 45, 60, 75, 100],\n",
        "        labels=['Young', 'Middle_Age', 'Senior', 'Old', 'Very_Old']\n",
        "    )\n",
        "\n",
        "risk_factors = [\n",
        "    'Diabetes', 'Hypertension', 'Smoking',\n",
        "    'Alcohol_Consumption', 'Family_History', 'Obesity'\n",
        "]\n"
      ],
      "metadata": {
        "id": "YUZ_EtCEfXjJ"
      },
      "execution_count": 20,
      "outputs": []
    },
    {
      "cell_type": "code",
      "source": [
        "existing_cols = [col for col in risk_factors if col in df.columns]\n",
        "if existing_cols:\n",
        "    df['Risk_Factor_Sum'] = df[existing_cols].sum(axis=1)\n",
        "\n",
        "print(\"Feature Engineering complete.\")\n",
        "print(df.head())"
      ],
      "metadata": {
        "colab": {
          "base_uri": "https://localhost:8080/"
        },
        "id": "QZ5BLTcRgBy6",
        "outputId": "457cf58d-ef1e-40fe-95cd-7b1de978f59f"
      },
      "execution_count": 21,
      "outputs": [
        {
          "output_type": "stream",
          "name": "stdout",
          "text": [
            "Feature Engineering complete.\n",
            "   Patient_ID        State_Name       Age  Gender Diabetes Hypertension  \\\n",
            "0           1         Rajasthan -0.427960  Female        0            0   \n",
            "1           2  Himachal Pradesh -1.353916    Male        0            0   \n",
            "2           3             Assam  1.655442    Male        0            0   \n",
            "3           4            Odisha  0.497997    Male        1            0   \n",
            "4           5         Karnataka -1.585405    Male        0            0   \n",
            "\n",
            "  Obesity Smoking Alcohol_Consumption Physical_Activity  ... Annual_Income  \\\n",
            "0       1       1                   0                 0  ...     -0.733249   \n",
            "1       0       0                   1                 1  ...     -1.511917   \n",
            "2       1       0                   0                 1  ...      1.316607   \n",
            "3       1       0                   0                 1  ...      0.671015   \n",
            "4       0       0                   0                 1  ...     -1.648457   \n",
            "\n",
            "   Health_Insurance  Heart_Attack_Risk  Obesity_Risk  BP_Difference  \\\n",
            "0                 0                  0      0.536176      -3.320930   \n",
            "1                 0                  0           0.0      -1.504778   \n",
            "2                 1                  0      0.997463      -2.780390   \n",
            "3                 0                  0     -0.017367      -0.294076   \n",
            "4                 0                  1           0.0      -0.889047   \n",
            "\n",
            "   Chol_HDL_Ratio  LDL_HDL_Ratio  TG_HDL_Ratio Age_Group  Risk_Factor_Sum  \n",
            "0       -1.271784       1.686926      1.657744       NaN                2  \n",
            "1       -8.118811      -4.999319     12.954742       NaN                1  \n",
            "2        3.720492       0.526550      2.005808     Young                2  \n",
            "3       -0.010186       0.082798      0.620373     Young                2  \n",
            "4       -0.796138      -0.397663      0.424603       NaN                0  \n",
            "\n",
            "[5 rows x 33 columns]\n"
          ]
        }
      ]
    },
    {
      "cell_type": "code",
      "source": [
        "import pandas as pd\n",
        "from sklearn.preprocessing import StandardScaler, MinMaxScaler\n",
        "\n",
        "\n",
        "numeric_cols = df.select_dtypes(include=['int64', 'float64']).columns.tolist()\n",
        "\n",
        "# --- Option 1: Standardization (Z-score normalization) ---\n",
        "scaler_std = StandardScaler()\n",
        "df[numeric_cols] = scaler_std.fit_transform(df[numeric_cols])\n",
        "\n",
        "\n",
        "print(\"Feature Scaling applied on numeric columns.\")\n",
        "print(df.head())\n"
      ],
      "metadata": {
        "colab": {
          "base_uri": "https://localhost:8080/"
        },
        "id": "BcBycAUSgCY8",
        "outputId": "12165145-a00f-4d1e-9f10-f5d0b4962791"
      },
      "execution_count": 22,
      "outputs": [
        {
          "output_type": "stream",
          "name": "stdout",
          "text": [
            "Feature Scaling applied on numeric columns.\n",
            "   Patient_ID        State_Name       Age  Gender Diabetes Hypertension  \\\n",
            "0   -1.731878         Rajasthan -0.427960  Female        0            0   \n",
            "1   -1.731531  Himachal Pradesh -1.353916    Male        0            0   \n",
            "2   -1.731185             Assam  1.655442    Male        0            0   \n",
            "3   -1.730838            Odisha  0.497997    Male        1            0   \n",
            "4   -1.730492         Karnataka -1.585405    Male        0            0   \n",
            "\n",
            "  Obesity Smoking Alcohol_Consumption Physical_Activity  ... Annual_Income  \\\n",
            "0       1       1                   0                 0  ...     -0.733249   \n",
            "1       0       0                   1                 1  ...     -1.511917   \n",
            "2       1       0                   0                 1  ...      1.316607   \n",
            "3       1       0                   0                 1  ...      0.671015   \n",
            "4       0       0                   0                 1  ...     -1.648457   \n",
            "\n",
            "   Health_Insurance  Heart_Attack_Risk  Obesity_Risk  BP_Difference  \\\n",
            "0                 0          -0.655745      0.536176      -2.339928   \n",
            "1                 0          -0.655745           0.0      -1.060267   \n",
            "2                 1          -0.655745      0.997463      -1.959064   \n",
            "3                 0          -0.655745     -0.017367      -0.207206   \n",
            "4                 0           1.524983           0.0      -0.626423   \n",
            "\n",
            "   Chol_HDL_Ratio  LDL_HDL_Ratio  TG_HDL_Ratio Age_Group  Risk_Factor_Sum  \n",
            "0       -0.160454       0.225579      0.232817       NaN                2  \n",
            "1       -1.057280      -0.646381      1.693834       NaN                1  \n",
            "2        0.493437       0.074253      0.277831     Young                2  \n",
            "3        0.004791       0.016383      0.098656     Young                2  \n",
            "4       -0.098153      -0.046274      0.073338       NaN                0  \n",
            "\n",
            "[5 rows x 33 columns]\n"
          ]
        }
      ]
    },
    {
      "cell_type": "markdown",
      "source": [
        "**Handling Outliera**"
      ],
      "metadata": {
        "id": "pNvoGatidCxz"
      }
    },
    {
      "cell_type": "code",
      "source": [
        "\n",
        "\n",
        "\n",
        "numeric_cols = df.select_dtypes(include=['int64', 'float64']).columns.tolist()\n",
        "\n",
        "def handle_outliers_iqr(data, cols):\n",
        "    for col in cols:\n",
        "        Q1 = data[col].quantile(0.25)\n",
        "        Q3 = data[col].quantile(0.75)\n",
        "        IQR = Q3 - Q1\n",
        "        lower_bound = Q1 - 1.5 * IQR\n",
        "        upper_bound = Q3 + 1.5 * IQR\n",
        "\n",
        "        data[col] = data[col].clip(lower=lower_bound, upper=upper_bound)\n",
        "\n",
        "\n",
        "\n",
        "    return data\n",
        "\n",
        "\n",
        "df = handle_outliers_iqr(df, numeric_cols)\n",
        "\n",
        "print(\"Outlier detection & handling complete.\")\n"
      ],
      "metadata": {
        "colab": {
          "base_uri": "https://localhost:8080/"
        },
        "id": "CiUqYQpAgb1n",
        "outputId": "b141ce23-4571-4b4a-8de0-438d77c77619"
      },
      "execution_count": 25,
      "outputs": [
        {
          "output_type": "stream",
          "name": "stdout",
          "text": [
            "Outlier detection & handling complete.\n"
          ]
        }
      ]
    },
    {
      "cell_type": "markdown",
      "source": [
        "**Adding New Features**"
      ],
      "metadata": {
        "id": "jTSYc3V8eZVr"
      }
    },
    {
      "cell_type": "code",
      "source": [
        "\n",
        "\n",
        "# Composite Clinical Ratios\n",
        "if 'Cholesterol_Level' in df.columns and 'HDL_Level' in df.columns:\n",
        "    df['Chol_HDL_Ratio'] = df['Cholesterol_Level'] / (df['HDL_Level'] + 1e-5)\n",
        "\n",
        "if 'LDL_Level' in df.columns and 'HDL_Level' in df.columns:\n",
        "    df['LDL_HDL_Ratio'] = df['LDL_Level'] / (df['HDL_Level'] + 1e-5)\n",
        "\n",
        "if 'Triglyceride_Level' in df.columns and 'HDL_Level' in df.columns:\n",
        "    df['TG_HDL_Ratio'] = df['Triglyceride_Level'] / (df['HDL_Level'] + 1e-5)\n",
        "\n"
      ],
      "metadata": {
        "id": "CEo1AkjdcUal"
      },
      "execution_count": 35,
      "outputs": []
    },
    {
      "cell_type": "code",
      "source": [
        "# 2.Risk Scores\n",
        "risk_factors = ['Diabetes', 'Hypertension', 'Smoking', 'Alcohol_Consumption', 'Obesity', 'Family_History']\n",
        "existing_risk = [col for col in risk_factors if col in df.columns]\n",
        "\n",
        "if existing_risk:\n",
        "    df['Risk_Factor_Sum'] = df[existing_risk].sum(axis=1)\n",
        "\n",
        "    weights = {\n",
        "        'Diabetes': 2.0,\n",
        "        'Hypertension': 1.5,\n",
        "        'Smoking': 1.5,\n",
        "        'Alcohol_Consumption': 1.2,\n",
        "        'Obesity': 1.3,\n",
        "        'Family_History': 2.0\n",
        "    }\n",
        "    df['Risk_Factor_Weighted'] = df[existing_risk].apply(\n",
        "        lambda row: sum(row[col] * weights[col] for col in existing_risk), axis=1\n",
        "    )\n",
        "\n"
      ],
      "metadata": {
        "id": "N82kbtyJdiiw"
      },
      "execution_count": 29,
      "outputs": []
    },
    {
      "cell_type": "code",
      "source": [
        "# 3. Blood Pressure Feature\n",
        "if 'Systolic_BP' in df.columns and 'Diastolic_BP' in df.columns:\n",
        "    df['BP_Difference'] = df['Systolic_BP'] - df['Diastolic_BP']   # Pulse pressure\n",
        "    df['BP_Ratio'] = df['Systolic_BP'] / (df['Diastolic_BP'] + 1e-5)\n",
        "\n",
        "    def bp_category(row):\n",
        "        if row['Systolic_BP'] < 120 and row['Diastolic_BP'] < 80:\n",
        "            return \"Normal\"\n",
        "        elif (120 <= row['Systolic_BP'] < 140) or (80 <= row['Diastolic_BP'] < 90):\n",
        "            return \"Prehypertension\"\n",
        "        elif (140 <= row['Systolic_BP'] < 160) or (90 <= row['Diastolic_BP'] < 100):\n",
        "            return \"Stage1\"\n",
        "        else:\n",
        "            return \"Stage2\"\n",
        "    df['BP_Category'] = df.apply(bp_category, axis=1)\n",
        "\n"
      ],
      "metadata": {
        "id": "KHwY1VNMeGfI"
      },
      "execution_count": 31,
      "outputs": []
    },
    {
      "cell_type": "code",
      "source": [
        "# 4. Lifestyle & Environment Features\n",
        "if 'Physical_Activity' in df.columns and 'Diet_Score' in df.columns:\n",
        "    df['Lifestyle_Index'] = df['Physical_Activity'].astype(str) + \"_\" + df['Diet_Score'].astype(str)\n",
        "\n",
        "if 'Air_Pollution_Exposure' in df.columns and 'Smoking' in df.columns:\n",
        "    df['Pollution_Smoking_Interaction'] = df['Air_Pollution_Exposure'] * df['Smoking']\n",
        "\n",
        "\n"
      ],
      "metadata": {
        "id": "8c5BmE-IeJ5V"
      },
      "execution_count": 32,
      "outputs": []
    },
    {
      "cell_type": "code",
      "source": [
        "if 'Annual_Income' in df.columns and 'Emergency_Response_Time' in df.columns:\n",
        "    df['Income_to_Response'] = df['Annual_Income'] / (df['Emergency_Response_Time'] + 1e-5)\n",
        "\n",
        "if 'Health_Insurance' in df.columns and 'Healthcare_Access' in df.columns:\n",
        "    df['Insurance_Access_Score'] = df['Health_Insurance'] * df['Healthcare_Access']\n",
        "\n"
      ],
      "metadata": {
        "id": "Q5XM92TPeKmA"
      },
      "execution_count": 33,
      "outputs": []
    },
    {
      "cell_type": "code",
      "source": [
        "if 'Age' in df.columns:\n",
        "    df['Age_Squared'] = df['Age'] ** 2\n",
        "    df['Age_Group'] = pd.cut(\n",
        "        df['Age'],\n",
        "        bins=[0, 30, 45, 60, 75, 100],\n",
        "        labels=['Young', 'Middle_Age', 'Senior', 'Old', 'Very_Old']\n",
        "    )\n",
        "\n",
        "print(\"New engineered features added successfully.\")\n",
        "print(df.head())"
      ],
      "metadata": {
        "colab": {
          "base_uri": "https://localhost:8080/"
        },
        "id": "LKhOHQr3eSUy",
        "outputId": "6f21b7f0-20b7-4484-d079-e727801e4787"
      },
      "execution_count": 34,
      "outputs": [
        {
          "output_type": "stream",
          "name": "stdout",
          "text": [
            "New engineered features added successfully.\n",
            "   Patient_ID        State_Name       Age  Gender Diabetes Hypertension  \\\n",
            "0   -1.731878         Rajasthan -0.427960  Female        0            0   \n",
            "1   -1.731531  Himachal Pradesh -1.353916    Male        0            0   \n",
            "2   -1.731185             Assam  1.655442    Male        0            0   \n",
            "3   -1.730838            Odisha  0.497997    Male        1            0   \n",
            "4   -1.730492         Karnataka -1.585405    Male        0            0   \n",
            "\n",
            "  Obesity Smoking Alcohol_Consumption Physical_Activity  ... Age_Group  \\\n",
            "0       1       1                   0                 0  ...       NaN   \n",
            "1       0       0                   1                 1  ...       NaN   \n",
            "2       1       0                   0                 1  ...     Young   \n",
            "3       1       0                   0                 1  ...     Young   \n",
            "4       0       0                   0                 1  ...       NaN   \n",
            "\n",
            "   Risk_Factor_Sum  Risk_Factor_Weighted  BP_Ratio  BP_Category  \\\n",
            "0                2                   2.8 -0.945886       Normal   \n",
            "1                1                   1.2 -0.019018       Normal   \n",
            "2                2                   3.3 -0.746839       Normal   \n",
            "3                2                   3.3  1.210424       Normal   \n",
            "4                0                   0.0  0.214468       Normal   \n",
            "\n",
            "   Lifestyle_Index  Pollution_Smoking_Interaction  Income_to_Response  \\\n",
            "0              0_9                       1.215607            1.668756   \n",
            "1              1_4                           -0.0           -1.363518   \n",
            "2              1_6                           -0.0           -7.259654   \n",
            "3              1_9                           -0.0            0.641168   \n",
            "4              1_5                           -0.0          -70.772798   \n",
            "\n",
            "  Insurance_Access_Score  Age_Squared  \n",
            "0                      0     0.183149  \n",
            "1                      0     1.833087  \n",
            "2                      1     2.740487  \n",
            "3                      0     0.248001  \n",
            "4                      0     2.513508  \n",
            "\n",
            "[5 rows x 41 columns]\n"
          ]
        }
      ]
    },
    {
      "cell_type": "code",
      "source": [],
      "metadata": {
        "id": "8Mg0xUs3eTxR"
      },
      "execution_count": null,
      "outputs": []
    }
  ]
}